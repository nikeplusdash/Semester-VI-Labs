{
 "metadata": {
  "language_info": {
   "codemirror_mode": {
    "name": "ipython",
    "version": 3
   },
   "file_extension": ".py",
   "mimetype": "text/x-python",
   "name": "python",
   "nbconvert_exporter": "python",
   "pygments_lexer": "ipython3",
   "version": "3.9.1"
  },
  "orig_nbformat": 2,
  "kernelspec": {
   "name": "python391jvsc74a57bd02fb91b1e956d45f6f365b9843a173f2d748faeda26451ace645ced11690f22b1",
   "display_name": "Python 3.9.1 64-bit"
  }
 },
 "nbformat": 4,
 "nbformat_minor": 2,
 "cells": [
  {
   "cell_type": "code",
   "execution_count": 1,
   "metadata": {},
   "outputs": [],
   "source": [
    "import re\n",
    "import os\n",
    "import pprint\n",
    "\n",
    "pp = pprint.PrettyPrinter(indent=2)"
   ]
  },
  {
   "cell_type": "code",
   "execution_count": 2,
   "metadata": {},
   "outputs": [
    {
     "output_type": "stream",
     "name": "stdout",
     "text": [
      "abba is a palindrome\n"
     ]
    }
   ],
   "source": [
    "# Part 1.a\n",
    "\n",
    "x = input('Enter an string: ').strip()\n",
    "print(x,('is not a palindrome','is a palindrome')[x == x[::-1]])"
   ]
  },
  {
   "cell_type": "code",
   "execution_count": 3,
   "metadata": {},
   "outputs": [
    {
     "output_type": "execute_result",
     "data": {
      "text/plain": [
       "'Hi my name is Nikesh'"
      ]
     },
     "metadata": {},
     "execution_count": 3
    }
   ],
   "source": [
    "# Part 1.b\n",
    "\n",
    "x = input('Enter an sentence: ').strip()\n",
    "re.sub(r'[,.;\\'\"?!:]','',x)"
   ]
  },
  {
   "cell_type": "code",
   "execution_count": 4,
   "metadata": {},
   "outputs": [
    {
     "output_type": "stream",
     "name": "stdout",
     "text": [
      "How > aeroplane > are > friend > my > you\n"
     ]
    }
   ],
   "source": [
    "# Part 1.c\n",
    "\n",
    "x = input('Enter an sentence: ').strip()\n",
    "x = x.split()\n",
    "print(' > '.join(sorted(x)))"
   ]
  },
  {
   "cell_type": "code",
   "execution_count": 5,
   "metadata": {},
   "outputs": [],
   "source": [
    "# Part 1.d\n",
    "\n",
    "# Uhm ??????"
   ]
  },
  {
   "cell_type": "code",
   "execution_count": 6,
   "metadata": {},
   "outputs": [
    {
     "output_type": "stream",
     "name": "stdout",
     "text": [
      "bob -> lol\nNew Sentence: Bob brought some shady lol milk with lol in it\n"
     ]
    }
   ],
   "source": [
    "# Part 1.e\n",
    "\n",
    "x = input('Enter an sentence: ').strip()\n",
    "y0 = input('Enter word to be replaced: ').strip()\n",
    "y1 = input('Enter word to be replaced with: ').strip()\n",
    "print('{} -> {}\\nNew Sentence: {}'.format(y0,y1,re.sub(y0,y1,x)))"
   ]
  },
  {
   "cell_type": "code",
   "execution_count": 8,
   "metadata": {},
   "outputs": [],
   "source": [
    "# Part 1.f\n",
    "\n",
    "x = dict(os.environ)\n",
    "pp.pprint(x)"
   ]
  }
 ]
}