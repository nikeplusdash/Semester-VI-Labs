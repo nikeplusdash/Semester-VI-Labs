{
 "metadata": {
  "language_info": {
   "codemirror_mode": {
    "name": "ipython",
    "version": 3
   },
   "file_extension": ".py",
   "mimetype": "text/x-python",
   "name": "python",
   "nbconvert_exporter": "python",
   "pygments_lexer": "ipython3",
   "version": "3.9.1"
  },
  "orig_nbformat": 2,
  "kernelspec": {
   "name": "python391jvsc74a57bd02fb91b1e956d45f6f365b9843a173f2d748faeda26451ace645ced11690f22b1",
   "display_name": "Python 3.9.1 64-bit"
  }
 },
 "nbformat": 4,
 "nbformat_minor": 2,
 "cells": [
  {
   "cell_type": "code",
   "execution_count": 1,
   "metadata": {},
   "outputs": [],
   "source": [
    "def matrix():\n",
    "    p = int(input('Enter row dimensions: '))\n",
    "    q = int(input('Enter column dimensions: '))\n",
    "    a = list(map(int,input('Enter all matrix values: ').split(' ')[:p*q]))\n",
    "    return [a[i:i+q] for i in range(0,len(a),q)]\n",
    "\n",
    "def matrixX(a,b,mat):\n",
    "    p = a\n",
    "    q = b\n",
    "    a = mat\n",
    "    return [a[i:i+q] for i in range(0,len(a),q)]\n",
    "\n",
    "def mSet():\n",
    "    a = set(map(int,input('Enter all set values: ').split(' ')))\n",
    "    return a\n",
    "\n",
    "def encrypt(string, shift):\n",
    "  cipher = ''\n",
    "  for char in string: \n",
    "    if char == ' ':\n",
    "        cipher = cipher + char\n",
    "    elif char.isupper():\n",
    "        cipher = cipher + chr((ord(char) + shift - 65) % 26 + 65)\n",
    "    else:\n",
    "        cipher = cipher + chr((ord(char) + shift - 97) % 26 + 97)\n",
    "  return cipher"
   ]
  },
  {
   "cell_type": "code",
   "execution_count": 2,
   "metadata": {},
   "outputs": [
    {
     "output_type": "stream",
     "name": "stdout",
     "text": [
      "6/2*(1+3) = 12.0\n"
     ]
    }
   ],
   "source": [
    "# Part 1.a\n",
    "\n",
    "x = input('Enter an expression: ').strip()\n",
    "print(x,'=',eval(x))"
   ]
  },
  {
   "source": [
    "# Part 1.b\n",
    "\n",
    "a = matrix()\n",
    "b = [[i[j] for i in a] for j in range(len(a[0]))]\n",
    "print('Matrix: {}\\nTranspose: {}'.format(a,b))"
   ],
   "cell_type": "code",
   "metadata": {},
   "execution_count": 3,
   "outputs": [
    {
     "output_type": "stream",
     "name": "stdout",
     "text": [
      "Matrix: [[1, 2], [3, 4], [5, 6]]\nTranspose: [[1, 3, 5], [2, 4, 6]]\n"
     ]
    }
   ]
  },
  {
   "cell_type": "code",
   "execution_count": 4,
   "metadata": {},
   "outputs": [
    {
     "output_type": "stream",
     "name": "stdout",
     "text": [
      "Matrix A: [[4], [6]]\nMatrix B: [[1, 1]]\nMatrix A×B: [[4, 4], [6, 6]]\n"
     ]
    }
   ],
   "source": [
    "# Part 1.c\n",
    "\n",
    "a = matrix()\n",
    "b = matrix()\n",
    "c = [sum([a[i][k]*b[k][j] for k in range(len(a[0]))]) for i in range(len(a)) for j in range(len(b[0]))]\n",
    "c = matrixX(len(a),len(b[0]),c)\n",
    "print('Matrix A: {}\\nMatrix B: {}\\nMatrix A×B: {}'.format(a,b,c))"
   ]
  },
  {
   "cell_type": "code",
   "execution_count": 5,
   "metadata": {},
   "outputs": [
    {
     "output_type": "stream",
     "name": "stdout",
     "text": [
      "Matrix A: [[1, 2], [3, 4]]\nMatrix B: [[8, 7], [6, 5]]\nMatrix A+B: [[9, 9], [9, 9]]\n"
     ]
    }
   ],
   "source": [
    "# Part 1.d\n",
    "\n",
    "a = matrix()\n",
    "b = matrix()\n",
    "c = [a[i][j]+b[i][j] for i in range(len(a)) for j in range(len(a[0]))]\n",
    "c = matrixX(len(a),len(a[0]),c)\n",
    "print('Matrix A: {}\\nMatrix B: {}\\nMatrix A+B: {}'.format(a,b,c))"
   ]
  },
  {
   "cell_type": "code",
   "execution_count": 6,
   "metadata": {},
   "outputs": [
    {
     "output_type": "stream",
     "name": "stdout",
     "text": [
      "1 + 2 + 3 + 4 + 5 + 6 + 7 + 8 + 9 + 10 = 55\n"
     ]
    }
   ],
   "source": [
    "# Part 1.e\n",
    "\n",
    "def sum(n):\n",
    "    if n == 1:\n",
    "        return n\n",
    "    return n+sum(n-1)\n",
    "\n",
    "n = int(input('Enter n: '))\n",
    "print('{} = {}'.format(' + '.join(list(map(str,list(range(1,n+1))))),sum(n)))"
   ]
  },
  {
   "cell_type": "code",
   "execution_count": 7,
   "metadata": {},
   "outputs": [
    {
     "output_type": "stream",
     "name": "stdout",
     "text": [
      "0 1 1 2 3 5 8 13 21 34 55 89 144 233 377 "
     ]
    }
   ],
   "source": [
    "# Part 1.f\n",
    "\n",
    "def fibonacci(a,b,n):\n",
    "    if n == 0:\n",
    "        return\n",
    "    print(a,end=' ')\n",
    "    c = b\n",
    "    b = a + c\n",
    "    a = c\n",
    "    fibonacci(a, b, n - 1)\n",
    "\n",
    "n = int(input('Enter n: '))\n",
    "fibonacci(0, 1, n)"
   ]
  },
  {
   "cell_type": "code",
   "execution_count": 8,
   "metadata": {},
   "outputs": [
    {
     "output_type": "stream",
     "name": "stdout",
     "text": [
      "Number: 15\nBinary: 1111\nOctal: 17\nHex: f\n"
     ]
    }
   ],
   "source": [
    "# Part 1.g\n",
    "\n",
    "n = int(input('Enter n: '))\n",
    "print('Number: {}\\nBinary: {:b}\\nOctal: {:o}\\nHex: {:x}'.format(n,n,n,n))"
   ]
  },
  {
   "cell_type": "code",
   "execution_count": 9,
   "metadata": {},
   "outputs": [
    {
     "output_type": "stream",
     "name": "stdout",
     "text": [
      "A: {1, 2, 3, 4, 5, 6}\nB: {1, 2, 3, 7, 8, 9}\n―――――――――――――――――――――――――――――――――――\nA ∪ B: {1, 2, 3, 4, 5, 6, 7, 8, 9}\nA ∩ B: {1, 2, 3}\nA - B: {4, 5, 6}\nB - A: {8, 9, 7}\nA ∆ B: {4, 5, 6, 7, 8, 9}\n"
     ]
    }
   ],
   "source": [
    "# Part 1.h\n",
    "\n",
    "a = mSet()\n",
    "b = mSet()\n",
    "print('A: {}\\nB: {}\\n―――――――――――――――――――――――――――――――――――\\nA ∪ B: {}\\nA ∩ B: {}\\nA - B: {}\\nB - A: {}\\nA ∆ B: {}'.format(a,b,a|b,a&b,a-b,b-a,a^b))"
   ]
  },
  {
   "cell_type": "code",
   "execution_count": 10,
   "metadata": {},
   "outputs": [
    {
     "output_type": "stream",
     "name": "stdout",
     "text": [
      "[1, 2, 3, 4, 5, 5, 4, 3, 2, 1, 0] is is not a palindrome\n"
     ]
    }
   ],
   "source": [
    "# Part 1.i\n",
    "\n",
    "a = list(map(int,input('Enter values: ').split(' ')))\n",
    "print(a,'is',('is not a palindrome','is a palindrome')[a == a[::-1]])"
   ]
  },
  {
   "cell_type": "code",
   "execution_count": 11,
   "metadata": {},
   "outputs": [
    {
     "output_type": "stream",
     "name": "stdout",
     "text": [
      "abcdefghijklmnopqrstuvwxyz -- 4 --> efghijklmnopqrstuvwxyzabcd\n"
     ]
    }
   ],
   "source": [
    "# Part 1.j\n",
    "\n",
    "a = str(input('Enter string: '))\n",
    "n = int(input('Enter shift: '))\n",
    "print('{} -- {} --> {}'.format(a,n,encrypt(a, n)))"
   ]
  }
 ]
}